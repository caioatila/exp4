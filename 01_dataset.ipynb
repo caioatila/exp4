{
 "cells": [
  {
   "cell_type": "markdown",
   "metadata": {},
   "source": [
    "# dataset\n",
    "\n",
    "> Create a dataset of storm matches"
   ]
  },
  {
   "cell_type": "code",
   "execution_count": null,
   "metadata": {},
   "outputs": [],
   "source": [
    "#| default_exp dataset"
   ]
  },
  {
   "cell_type": "code",
   "execution_count": null,
   "metadata": {},
   "outputs": [],
   "source": [
    "#| export\n",
    "import exp4\n",
    "from exp4.core import *\n",
    "#from exp4.core import load_relato"
   ]
  },
  {
   "cell_type": "markdown",
   "metadata": {},
   "source": [
    "## Loading PreVots data"
   ]
  },
  {
   "cell_type": "code",
   "execution_count": null,
   "metadata": {},
   "outputs": [],
   "source": [
    "#| hide\n",
    "\n",
    "# Old and new prevots reports\n",
    "pth_relatos = Path(r\"C:\\Users\\caioa\\TESE\\Experimento_3\\relatos\\granizo_2023.csv\")\n",
    "relatos = load_relato(pth_relatos)\n",
    "\n",
    "\n",
    "# Brazilian municipalities data\n",
    "pth_ibge = Path(r\"C:\\Users\\caioa\\TESE\\Experimento_3\\ibge\")\n",
    "shp_cities = gpd.read_file(pth_ibge / \"BR_MUNICIPIOS_2022\" / \"BR_MUNICIPIOS_2022.shp\")\n",
    "shp_cities.set_index([\"NM_MUN\", \"SIGLA_UF\"], inplace=True)\n",
    "\n",
    "\n",
    "# Dbs of tracked storms\n",
    "pth_db = Path(r\"C:\\Users\\caioa\\TESE\\Experimento_3\\dbs_v2\")\n",
    "#db_name = \"20230101_20231231_systems-db.sqlite\"\n",
    "table_name = \"systems\"\n"
   ]
  },
  {
   "cell_type": "code",
   "execution_count": null,
   "metadata": {},
   "outputs": [],
   "source": [
    "#| hide\n",
    "db_name"
   ]
  },
  {
   "cell_type": "code",
   "execution_count": null,
   "metadata": {},
   "outputs": [],
   "source": [
    "#| hide\n",
    "import nbdev; nbdev.nbdev_export()"
   ]
  }
 ],
 "metadata": {
  "kernelspec": {
   "display_name": "Python 3 (ipykernel)",
   "language": "python",
   "name": "python3"
  }
 },
 "nbformat": 4,
 "nbformat_minor": 4
}
