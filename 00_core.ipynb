{
 "cells": [
  {
   "cell_type": "markdown",
   "metadata": {},
   "source": [
    "# core\n",
    "\n",
    "> Core functions for handling the data formats"
   ]
  },
  {
   "cell_type": "code",
   "execution_count": null,
   "metadata": {},
   "outputs": [],
   "source": [
    "#| default_exp core"
   ]
  },
  {
   "cell_type": "code",
   "execution_count": null,
   "metadata": {},
   "outputs": [],
   "source": [
    "#| hide\n",
    "from nbdev.showdoc import *"
   ]
  },
  {
   "cell_type": "markdown",
   "metadata": {},
   "source": [
    "## Functions for handling PreVots data \n",
    "\n",
    "> CSV file of crowdsourced report"
   ]
  },
  {
   "cell_type": "code",
   "execution_count": 1,
   "metadata": {},
   "outputs": [
    {
     "name": "stderr",
     "output_type": "stream",
     "text": [
      "c:\\Users\\caioa\\mambaforge\\envs\\tathu-dev\\lib\\site-packages\\osgeo\\osr.py:385: FutureWarning: Neither osr.UseExceptions() nor osr.DontUseExceptions() has been explicitly called. In GDAL 4.0, exceptions will be enabled by default.\n",
      "  warnings.warn(\n"
     ]
    }
   ],
   "source": [
    "#| export\n",
    "from pathlib import Path\n",
    "import pandas as pd\n",
    "import geopandas as gdp\n",
    "import sqlite3\n",
    "import datetime\n",
    "import numpy as np\n",
    "import gc\n",
    "\n",
    "\n",
    "from tathu.io import spatialite\n",
    "from tathu.constants import KM_PER_DEGREE"
   ]
  },
  {
   "cell_type": "code",
   "execution_count": 2,
   "metadata": {},
   "outputs": [],
   "source": [
    "#| export\n",
    "def geo2buffer(row, buffer=20):\n",
    "        \n",
    "    \"\"\"\n",
    "    Adds an approximate buffer of inclusion around the point geometry of a GeoDataFrame row.\n",
    "\n",
    "    Args:\n",
    "        Buffer in KM\n",
    "        Defaults to 20 Km\n",
    "    \"\"\"\n",
    "\n",
    "    ds = (row[\"dx_km\"] + buffer) / KM_PER_DEGREE\n",
    "    \n",
    "    return row.geometry.buffer(ds)"
   ]
  },
  {
   "cell_type": "code",
   "execution_count": 4,
   "metadata": {},
   "outputs": [],
   "source": [
    "#| export\n",
    "def load_relato(pth):\n",
    "    \"\"\"\n",
    "     Load the Relatos dataset as a geopandas dataframe\n",
    "    \"\"\"\n",
    "\n",
    "    df_relatos = pd.read_csv(pth,\n",
    "                         parse_dates={\"date_time\": [\"data\", \"utc\"]},\n",
    "                         date_parser= lambda dcol: pd.to_datetime(f\"{dcol.split(' ')[0]} {dcol.split(' ')[1].zfill(4)}\", format=\"%Y%m%d %H%M\", exact=True),\n",
    "                         encoding=\"ISO-8859-1\")\n",
    "\n",
    "    df_relatos = df_relatos[df_relatos.tipo == \"GRA\"]\n",
    "\n",
    "    gdf_relatos = gpd.GeoDataFrame(df_relatos,\n",
    "                                geometry=gpd.points_from_xy(df_relatos.lon, df_relatos.lat),\n",
    "                                crs=\"EPSG:4326\")\n",
    "    \n",
    "\n",
    "\n",
    "\n",
    "    # Buffer points\n",
    "    gdf_relatos[\"buffer\"] = gdf_relatos.apply(geo2buffer, axis=1)\n",
    "    return gdf_relatos"
   ]
  },
  {
   "cell_type": "code",
   "execution_count": 5,
   "metadata": {},
   "outputs": [],
   "source": [
    "#| export\n",
    "def replace_val(df_set, uf_name, nested_dict):\n",
    "    \"\"\"\n",
    "    Replace values in a dataframe based on a nested dictionary. Useful for correcting municipalities names\n",
    "    \"\"\"\n",
    "\n",
    "    df_set.loc[df_set[\"uf\"]==uf_name] = df_set.loc[df_set[\"uf\"]==uf_name].replace(nested_dict)\n",
    "    return df_set"
   ]
  },
  {
   "cell_type": "markdown",
   "metadata": {},
   "source": [
    "## Functions for the TATHU database\n",
    "\n",
    "> Handling default TATHU output"
   ]
  },
  {
   "cell_type": "code",
   "execution_count": 6,
   "metadata": {},
   "outputs": [],
   "source": [
    "#| export\n",
    "def get_date(db_file, date_col=\"date_time\"):\n",
    "    \"\"\" \n",
    "    Returns the start and end dates of a database file.\n",
    "\n",
    "    Args:   \n",
    "        db_file: Database file.\n",
    "        date_col: Name of the date column in the database file.\n",
    "    \"\"\"\n",
    "    return db_file[date_col].min(), db_file[date_col].max()"
   ]
  },
  {
   "cell_type": "code",
   "execution_count": 7,
   "metadata": {},
   "outputs": [],
   "source": [
    "def connect_db(dbname):\n",
    "        \n",
    "    \"\"\"\n",
    "    Create a connection to the database\n",
    "    \"\"\"\n",
    "    conn = sqlite3.connect(dbname, detect_types=sqlite3.PARSE_DECLTYPES)\n",
    "    conn.enable_load_extension(True)\n",
    "    conn.load_extension('mod_spatialite')\n",
    "    conn.execute(\"SELECT InitSpatialMetadata(1)\")\n",
    "\n",
    "    return conn"
   ]
  },
  {
   "cell_type": "code",
   "execution_count": 8,
   "metadata": {},
   "outputs": [],
   "source": [
    "def load_db(dbname, sql, params, geo_col):\n",
    "\n",
    "    \"\"\"\n",
    "    Load the file\n",
    "    \"\"\"\n",
    "    \n",
    "    conn = connect_db(dbname)\n",
    "    \n",
    "    return gpd.GeoDataFrame.from_postgis(sql, conn, params=params, geom_col=geo_col)\n"
   ]
  },
  {
   "cell_type": "code",
   "execution_count": 9,
   "metadata": {},
   "outputs": [],
   "source": [
    "def query2gdf(conn, sql, params, geo_col):\n",
    "\n",
    "    \"\"\"\n",
    "    Receives a query to perform and returns a GeoDataFrame of the results\n",
    "    \"\"\"\n",
    "    \n",
    "    return gpd.GeoDataFrame.from_postgis(sql, conn, params=params, geom_col=geo_col)\n"
   ]
  },
  {
   "cell_type": "code",
   "execution_count": null,
   "metadata": {},
   "outputs": [],
   "source": [
    "#| hide\n",
    "import nbdev; nbdev.nbdev_export()"
   ]
  }
 ],
 "metadata": {
  "kernelspec": {
   "display_name": "python3",
   "language": "python",
   "name": "python3"
  },
  "language_info": {
   "codemirror_mode": {
    "name": "ipython",
    "version": 3
   },
   "file_extension": ".py",
   "mimetype": "text/x-python",
   "name": "python",
   "nbconvert_exporter": "python",
   "pygments_lexer": "ipython3",
   "version": "3.9.16"
  }
 },
 "nbformat": 4,
 "nbformat_minor": 4
}
